{
  "cells": [
    {
      "cell_type": "markdown",
      "metadata": {
        "id": "Wf_qQ5dZJ5l6"
      },
      "source": [
        "# Masoscience (preparation)\n",
        "\n",
        "**Author:** Mir Yasin Zeinaliyan\n",
        "\n",
        "**Email:** yasinprodebian@gmail.com  \n",
        "\n",
        "**Github:** https://github.com/yasin-pro/masoscience\n",
        "\n",
        "**Description:** In this notebook, we implement a part of Masoscience project related to data preparation for model learning.\n",
        "This data is related to the price of the EURUSD stock market in a one-hour time frame, and the year we are preparing this project is 2024, and the prices are from ten years ago to this year.\n"
      ]
    },
    {
      "cell_type": "markdown",
      "metadata": {
        "id": "-kczedMgc6yq"
      },
      "source": [
        "### Import libraries\n",
        "\n",
        "In this section, I entered the code of all the libraries that are required to run the following codes"
      ]
    },
    {
      "cell_type": "code",
      "execution_count": 41,
      "metadata": {
        "id": "42Cbsb3BoH47"
      },
      "outputs": [],
      "source": [
        "import pandas as pd\n",
        "import numpy as np\n",
        "import datetime as dt\n",
        "from tensorflow.keras.models import Sequential\n",
        "from tensorflow.keras.layers import LSTM, GRU, Dense, Dropout\n",
        "from sklearn.preprocessing import StandardScaler, MinMaxScaler\n",
        "from tensorflow.keras.callbacks import EarlyStopping\n",
        "from tensorflow.keras.regularizers import l2\n",
        "from sklearn.metrics import mean_absolute_error, mean_squared_error\n",
        "import matplotlib.pyplot as plt\n",
        "from sklearn.preprocessing import RobustScaler\n",
        "from sklearn.model_selection import train_test_split"
      ]
    },
    {
      "cell_type": "markdown",
      "metadata": {
        "id": "JzhOmCYrcgLX"
      },
      "source": [
        "### Read data\n",
        "\n",
        "In the code below, I have loaded my data from my Google Drive and I want it. If your data is somewhere else, you must change the way to load the csv file.\n",
        "\n",
        "I read the csv file and sort it according to time and get the prices of each candle, including the opening and closing prices and the highest and lowest prices."
      ]
    },
    {
      "cell_type": "code",
      "execution_count": 43,
      "metadata": {
        "id": "YN4z6_92clgf",
        "colab": {
          "base_uri": "https://localhost:8080/"
        },
        "outputId": "8d48f50f-647d-4ac0-b50c-274fdfcad937"
      },
      "outputs": [
        {
          "output_type": "stream",
          "name": "stdout",
          "text": [
            "Drive already mounted at /content/drive; to attempt to forcibly remount, call drive.mount(\"/content/drive\", force_remount=True).\n"
          ]
        }
      ],
      "source": [
        "from google.colab import drive\n",
        "\n",
        "drive.mount('/content/drive')\n",
        "df = pd.read_csv(\"/content/drive/My Drive/eurusd.csv\")\n",
        "\n",
        "# df = pd.read_csv(\"eurusd.csv\")\n",
        "\n",
        "df['time'] = pd.to_datetime(df['time'])\n",
        "\n",
        "df = df.sort_values(by='time')\n",
        "\n",
        "df = df.dropna()\n",
        "\n",
        "df = df[['open', 'high', 'low', 'close']].copy()"
      ]
    },
    {
      "cell_type": "markdown",
      "metadata": {
        "id": "HvBFddr1cIEz"
      },
      "source": [
        "### Calculation of rsi for periods of 14, 16, 18 and 20 days\n",
        "\n",
        "The Relative Strength Index (RSI) is a momentum oscillator used in technical analysis to measure the speed and change of price movements. It was developed by J. Welles Wilder and is designed to identify overbought or oversold conditions in a market."
      ]
    },
    {
      "cell_type": "code",
      "execution_count": 44,
      "metadata": {
        "id": "H3aqJSmfcQ8Q"
      },
      "outputs": [],
      "source": [
        "def calculate_rsi(data, period=14):\n",
        "    \"\"\"This function for calculate rsi.\"\"\"\n",
        "\n",
        "    close_prices = data['close']\n",
        "\n",
        "    daily_returns = close_prices.diff()\n",
        "\n",
        "    gain = daily_returns.where(daily_returns > 0, 0)\n",
        "\n",
        "    loss = -daily_returns.where(daily_returns < 0, 0)\n",
        "\n",
        "    average_gain = gain.rolling(window=period).mean()\n",
        "\n",
        "    average_loss = loss.rolling(window=period).mean()\n",
        "\n",
        "    rs = average_gain / average_loss\n",
        "\n",
        "    rsi = 100 - (100 / (1 + rs))\n",
        "\n",
        "    return rsi\n",
        "\n",
        "df[\"rsi_14\"] = calculate_rsi(df, 14)\n",
        "\n",
        "df[\"rsi_16\"] = calculate_rsi(df, 16)\n",
        "\n",
        "df[\"rsi_18\"] = calculate_rsi(df, 18)\n",
        "\n",
        "df[\"rsi_20\"] = calculate_rsi(df, 20)\n",
        "\n",
        "df = df.dropna()"
      ]
    },
    {
      "cell_type": "markdown",
      "metadata": {
        "id": "s9-B7_a1jHDG"
      },
      "source": [
        "### Calculation of bollinger bands for periods of 18, 20, 22 and 24 days\n",
        "\n",
        "Bollinger Bands are a technical analysis tool developed by John Bollinger, used to measure market volatility and identify potential overbought or oversold conditions. Bollinger Bands consist of three lines, typically plotted on a price chart:\n",
        "\n",
        "    Middle Band: This is usually a simple moving average (SMA) of the price, typically set to 20 periods.\n",
        "\n",
        "    Upper Band: This is calculated by adding a certain number of standard deviations (usually 2) to the middle band. The standard deviation measures the dispersion of price data from the average.\n",
        "\n",
        "    Lower Band: This is calculated by subtracting the same number of standard deviations (usually 2) from the middle band.\n"
      ]
    },
    {
      "cell_type": "code",
      "execution_count": null,
      "metadata": {
        "id": "tG35xGnvjTXO"
      },
      "outputs": [],
      "source": [
        "def calculate_bollinger_bands(data, period=20):\n",
        "    \"\"\"\n",
        "    THIS FUNCTION FOR CALCULATE BOLLINGER BANDS\n",
        "    \"\"\"\n",
        "    close_prices = data['close']\n",
        "\n",
        "    sma = close_prices.rolling(window=period).mean()\n",
        "\n",
        "    std = close_prices.rolling(window=period).std()\n",
        "\n",
        "    upper_band = sma + 2 * std\n",
        "\n",
        "    lower_band = sma - 2 * std\n",
        "\n",
        "    return upper_band, sma, lower_band\n",
        "\n",
        "upper_band, sma, lower_band = calculate_bollinger_bands(df, 18)\n",
        "\n",
        "df['upper_band_18'] = upper_band\n",
        "\n",
        "df['sma_18'] = sma\n",
        "\n",
        "df['lower_band_18'] = lower_band\n",
        "\n",
        "upper_band, sma, lower_band = calculate_bollinger_bands(df, 20)\n",
        "\n",
        "df['upper_band_20'] = upper_band\n",
        "\n",
        "df['sma_20'] = sma\n",
        "\n",
        "df['lower_band_20'] = lower_band\n",
        "\n",
        "upper_band, sma, lower_band = calculate_bollinger_bands(df, 22)\n",
        "\n",
        "df['upper_band_22'] = upper_band\n",
        "\n",
        "df['sma_22'] = sma\n",
        "\n",
        "df['lower_band_22'] = lower_band\n",
        "\n",
        "upper_band, sma, lower_band = calculate_bollinger_bands(df, 24)\n",
        "\n",
        "df['upper_band_24'] = upper_band\n",
        "\n",
        "df['sma_24'] = sma\n",
        "\n",
        "df['lower_band_24'] = lower_band\n",
        "\n",
        "df = df.dropna()"
      ]
    },
    {
      "cell_type": "markdown",
      "metadata": {
        "id": "amKEKngYSnSJ"
      },
      "source": [
        "### Calculation of atr for periods of 14, 16, 18 and 20 days\n",
        "\n",
        "ATR (Average True Range) is a technical analysis indicator that measures market volatility by analyzing the range of an asset's price over a specific period. It was developed by J. Welles Wilder and introduced in his 1978 book \"New Concepts in Technical Trading Systems.\"\n"
      ]
    },
    {
      "cell_type": "code",
      "execution_count": null,
      "metadata": {
        "id": "nOiQVkZPSw3t"
      },
      "outputs": [],
      "source": [
        "def calculate_atr_14(df, atr_period=14):\n",
        "    \"\"\"\n",
        "    THIS FUNCTION FOR CALCULATE ATR\n",
        "    \"\"\"\n",
        "    df['TR'] = df.apply(\n",
        "        lambda row: max(\n",
        "            row['high'] - row['low'], abs(\n",
        "                row['high'] - row['close']\n",
        "            ),\n",
        "            abs(\n",
        "                row['low'] - row['close']\n",
        "            )\n",
        "        ), axis=1\n",
        "    )\n",
        "\n",
        "    df['atr_14'] = df['TR'].rolling(window=atr_period).mean()\n",
        "\n",
        "    df.drop('TR', axis=1, inplace=True)\n",
        "\n",
        "    return df\n",
        "\n",
        "def calculate_atr_16(df, atr_period=16):\n",
        "    \"\"\"\n",
        "    THIS FUNCTION FOR CALCULATE ATR\n",
        "    \"\"\"\n",
        "    df['TR'] = df.apply(\n",
        "        lambda row: max(\n",
        "            row['high'] - row['low'], abs(\n",
        "                row['high'] - row['close']\n",
        "            ),\n",
        "            abs(\n",
        "                row['low'] - row['close']\n",
        "            )\n",
        "        ), axis=1\n",
        "    )\n",
        "\n",
        "    df['atr_16'] = df['TR'].rolling(window=atr_period).mean()\n",
        "\n",
        "    df.drop('TR', axis=1, inplace=True)\n",
        "\n",
        "    return df\n",
        "\n",
        "def calculate_atr_18(df, atr_period=18):\n",
        "    \"\"\"\n",
        "    THIS FUNCTION FOR CALCULATE ATR\n",
        "    \"\"\"\n",
        "    df['TR'] = df.apply(\n",
        "        lambda row: max(\n",
        "            row['high'] - row['low'], abs(\n",
        "                row['high'] - row['close']\n",
        "            ),\n",
        "            abs(\n",
        "                row['low'] - row['close']\n",
        "            )\n",
        "        ), axis=1\n",
        "    )\n",
        "\n",
        "    df['atr_18'] = df['TR'].rolling(window=atr_period).mean()\n",
        "\n",
        "    df.drop('TR', axis=1, inplace=True)\n",
        "\n",
        "    return df\n",
        "\n",
        "def calculate_atr_20(df, atr_period=20):\n",
        "    \"\"\"\n",
        "    THIS FUNCTION FOR CALCULATE ATR\n",
        "    \"\"\"\n",
        "    df['TR'] = df.apply(\n",
        "        lambda row: max(\n",
        "            row['high'] - row['low'], abs(\n",
        "                row['high'] - row['close']\n",
        "            ),\n",
        "            abs(\n",
        "                row['low'] - row['close']\n",
        "            )\n",
        "        ), axis=1\n",
        "    )\n",
        "\n",
        "    df['atr_20'] = df['TR'].rolling(window=atr_period).mean()\n",
        "\n",
        "    df.drop('TR', axis=1, inplace=True)\n",
        "\n",
        "    return df\n",
        "\n",
        "calculate_atr_14(df, 14)\n",
        "\n",
        "calculate_atr_16(df, 16)\n",
        "\n",
        "calculate_atr_18(df, 18)\n",
        "\n",
        "calculate_atr_20(df, 20)\n",
        "\n",
        "df = df.dropna()"
      ]
    },
    {
      "cell_type": "markdown",
      "metadata": {
        "id": "cn0ZkkGDlSx1"
      },
      "source": [
        "### Calculation macd\n",
        "\n",
        "MACD (Moving Average Convergence Divergence) is a popular technical analysis indicator used in stock trading to identify changes in the strength, direction, momentum, and duration of a trend in a stock's price."
      ]
    },
    {
      "cell_type": "code",
      "execution_count": null,
      "metadata": {
        "id": "XnUudvhblT1d"
      },
      "outputs": [],
      "source": [
        "def calculate_macd(df, short_window=12, long_window=26, signal_window=9):\n",
        "    short_ema = df['close'].ewm(span=short_window, adjust=False).mean()\n",
        "\n",
        "    long_ema = df['close'].ewm(span=long_window, adjust=False).mean()\n",
        "\n",
        "    df['macd'] = short_ema - long_ema\n",
        "\n",
        "    return df\n",
        "\n",
        "\n",
        "df = calculate_macd(df)\n",
        "\n",
        "df = df.dropna()"
      ]
    },
    {
      "cell_type": "markdown",
      "metadata": {
        "id": "4XXBi-pSvxga"
      },
      "source": [
        "###  Calculation of adx for periods of 14, 16, 18, 20, 22, 24 and 26 days\n",
        "\n",
        "\n",
        "ADX (Average Directional Index) is a technical indicator used to quantify the strength of a trend, regardless of its direction. It is part of the Directional Movement System developed by J. Welles Wilder, which also includes the Positive Directional Indicator (+DI) and Negative Directional Indicator (-DI)."
      ]
    },
    {
      "cell_type": "code",
      "execution_count": null,
      "metadata": {
        "id": "24fSuvpgZvKy"
      },
      "outputs": [],
      "source": [
        "def calculate_adx(df, timeperiod=14, high_col='high', low_col='low', close_col='close', adx_col='adx_14'):\n",
        "\n",
        "    df['High-Low'] = df[high_col] - df[low_col]\n",
        "    df['High-PrevClose'] = abs(df[high_col] - df[close_col].shift(1))\n",
        "    df['Low-PrevClose'] = abs(df[low_col] - df[close_col].shift(1))\n",
        "    df['TR'] = df[['High-Low', 'High-PrevClose', 'Low-PrevClose']].max(axis=1)\n",
        "\n",
        "    df['UpMove'] = df[high_col] - df[high_col].shift(1)\n",
        "    df['DownMove'] = df[low_col].shift(1) - df[low_col]\n",
        "    df['PlusDM'] = np.where((df['UpMove'] > df['DownMove']) & (df['UpMove'] > 0), df['UpMove'], 0)\n",
        "    df['MinusDM'] = np.where((df['DownMove'] > df['UpMove']) & (df['DownMove'] > 0), df['DownMove'], 0)\n",
        "\n",
        "    df['ATR'] = df['TR'].rolling(window=timeperiod).mean()\n",
        "\n",
        "    df['PlusDI'] = 100 * (df['PlusDM'].rolling(window=timeperiod).sum() / df['ATR'])\n",
        "    df['MinusDI'] = 100 * (df['MinusDM'].rolling(window=timeperiod).sum() / df['ATR'])\n",
        "\n",
        "    df['RS'] = df['PlusDI'] / df['MinusDI']\n",
        "    df[f'{adx_col}'] = 100 * df['RS'].ewm(span=timeperiod, adjust=False).mean()\n",
        "\n",
        "    df.drop(['High-Low', 'High-PrevClose', 'Low-PrevClose', 'TR', 'UpMove', 'DownMove', 'PlusDM', 'MinusDM', 'ATR', 'RS', 'PlusDI', 'MinusDI'], axis=1, inplace=True)\n",
        "\n",
        "    return None\n",
        "\n",
        "calculate_adx(df, timeperiod = 14, adx_col='adx_14')\n",
        "\n",
        "calculate_adx(df, timeperiod = 16, adx_col='adx_16')\n",
        "\n",
        "calculate_adx(df, timeperiod = 18, adx_col='adx_18')\n",
        "\n",
        "calculate_adx(df, timeperiod = 20, adx_col='adx_20')\n",
        "\n",
        "calculate_adx(df, timeperiod = 22, adx_col='adx_22')\n",
        "\n",
        "calculate_adx(df, timeperiod = 24, adx_col='adx_24')\n",
        "\n",
        "calculate_adx(df, timeperiod = 26, adx_col='adx_26')\n",
        "\n",
        "df = df.dropna()"
      ]
    },
    {
      "cell_type": "markdown",
      "metadata": {
        "id": "xuYYJN24UUQ0"
      },
      "source": [
        "###  Calculation of vix for periods of 14, 16, 18 and 20 days\n",
        "\n",
        "\n",
        "The VIX (Volatility Index), often referred to as the \"Fear Gauge\" or \"Fear Index,\" is a popular measure of the stock market's expectation of volatility based on S&P 500 index options. It is calculated and published by the Chicago Board Options Exchange (CBOE) and represents the market's expectations for volatility over the next 30 days."
      ]
    },
    {
      "cell_type": "code",
      "execution_count": null,
      "metadata": {
        "id": "HEbEo3DoOgjw"
      },
      "outputs": [],
      "source": [
        "def calculate_vix(df, timeperiod=20, high_col='high', low_col='low', close_col='close', vix_col='vix_20'):\n",
        "\n",
        "    # Calculate log returns\n",
        "    df['LogReturns'] = np.log(df[close_col] / df[close_col].shift(1))\n",
        "\n",
        "    # Calculate squared returns\n",
        "    df['SquaredReturns'] = df['LogReturns'].pow(2)\n",
        "\n",
        "    # Calculate rolling sum of squared returns\n",
        "    df['SumSquaredReturns'] = df['SquaredReturns'].rolling(window=timeperiod).sum()\n",
        "\n",
        "    # Calculate VIX\n",
        "    df[vix_col] = 100 * np.sqrt(df['SumSquaredReturns'] * (252 / timeperiod))\n",
        "\n",
        "    # Drop temporary columns\n",
        "    df.drop(['LogReturns', 'SquaredReturns', 'SumSquaredReturns'], axis=1, inplace=True)\n",
        "\n",
        "    return None\n",
        "\n",
        "\n",
        "calculate_vix(df, timeperiod = 14, vix_col='vix_14')\n",
        "\n",
        "calculate_vix(df, timeperiod = 16, vix_col='vix_16')\n",
        "\n",
        "calculate_vix(df, timeperiod = 18, vix_col='vix_18')\n",
        "\n",
        "calculate_vix(df, timeperiod = 20, vix_col='vix_20')\n",
        "\n",
        "df = df.dropna()"
      ]
    },
    {
      "cell_type": "markdown",
      "metadata": {
        "id": "vQhjAcjmI0Ar"
      },
      "source": [
        "### Differencing\n",
        "\n",
        "Differencing is commonly used in time series analysis to remove linear trends and seasonality. By subtracting the current value from the previous value, it is possible to analyze the changes between data points.\n",
        "\n",
        "\n",
        "    1) Removing Trends and Seasonality\n",
        "\n",
        "    2) Focusing on Relative Changes\n",
        "\n",
        "    3) Improving Model Stability and Learning\n",
        "\n",
        "    4) Better Alignment with Data Characteristics\n",
        "\n",
        "    5) Reducing Noise"
      ]
    },
    {
      "cell_type": "code",
      "execution_count": null,
      "metadata": {
        "id": "uESwd0YBIzwU"
      },
      "outputs": [],
      "source": [
        "df['change_percent'] = (\n",
        "    (df['close'].shift(-1) - df['close']) / df['close']\n",
        ") * 100\n",
        "df = df.dropna()"
      ]
    },
    {
      "cell_type": "markdown",
      "source": [
        "### Save\n",
        "\n",
        "Finally, we save the data that was prepared to give it to the next step, which is the learning of that data by the deep learning model\n",
        "\n",
        "I saved the data in my Google Drive, to save it somewhere else, you need to change the code below"
      ],
      "metadata": {
        "id": "Cw-rFOJJtfVu"
      }
    },
    {
      "cell_type": "code",
      "source": [
        "# output_file_path = \"processed_eurusd.csv\"\n",
        "output_file_path = \"/content/drive/My Drive/processed_eurusd.csv\"\n",
        "df.to_csv(output_file_path, index=False)"
      ],
      "metadata": {
        "id": "2e0qeq7ntdmT"
      },
      "execution_count": 45,
      "outputs": []
    }
  ],
  "metadata": {
    "colab": {
      "provenance": [],
      "collapsed_sections": [
        "-kczedMgc6yq",
        "HvBFddr1cIEz",
        "s9-B7_a1jHDG",
        "amKEKngYSnSJ",
        "cn0ZkkGDlSx1",
        "4XXBi-pSvxga",
        "xuYYJN24UUQ0",
        "vQhjAcjmI0Ar",
        "Cw-rFOJJtfVu"
      ]
    },
    "kernelspec": {
      "display_name": "Python 3",
      "name": "python3"
    },
    "language_info": {
      "name": "python"
    }
  },
  "nbformat": 4,
  "nbformat_minor": 0
}